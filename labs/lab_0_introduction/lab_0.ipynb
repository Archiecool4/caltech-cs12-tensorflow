{
 "cells": [
  {
   "cell_type": "markdown",
   "metadata": {},
   "source": [
    "# Lab 0: Introduction"
   ]
  },
  {
   "cell_type": "markdown",
   "metadata": {},
   "source": [
    "## Section 0: Setup\n",
    "\n",
    "include github stuff\n",
    "\n"
   ]
  },
  {
   "cell_type": "code",
   "execution_count": 110,
   "metadata": {},
   "outputs": [],
   "source": [
    "# Import essential libraries\n",
    "import numpy as np\n",
    "import tensorflow as tf"
   ]
  },
  {
   "cell_type": "markdown",
   "metadata": {},
   "source": [
    "## Section 1: formatting / style\n",
    "\n",
    "Oh no Ben Bitfiddle hasn't written any python code since CS1, help him rewrite the below functions into something reasonable.\n",
    "\n",
    "\n"
   ]
  },
  {
   "cell_type": "code",
   "execution_count": 111,
   "metadata": {},
   "outputs": [],
   "source": [
    "import random\n",
    "import string\n",
    "import inspect\n",
    "\n",
    "\n",
    "# Ben Bitfiddle wanted to make a function so he could add numbers together\n",
    "# TODO refactor this code \n",
    "def add(x,y):\n",
    "  x = x +y\n",
    "  y =x\n",
    "  return y\n",
    "\n",
    "# Ben has made an interesting choice for his sorting function...\n",
    "# TODO clean up the spacing\n",
    "def bogosort(array):\n",
    "  random.shuffle(array)\n",
    "  while( array!= \\\n",
    "      sorted(array )):\n",
    "    random. shuffle(array)\n",
    "  return array\n",
    "   \n",
    "# Mr Bitfiddle wanted to make an array ranging from 1 to 13\n",
    "# TODO Isn't there an easy way to do this in python...?\n",
    "def make_data():\n",
    "  lst = []\n",
    "  for i in [1,2,3,4,5,6,7,8,9,10,11,12,13]:\n",
    "    tmp = lst.copy()\n",
    "    tmp.append([]+[i*2])\n",
    "    lst += tmp[i-1]\n",
    "  return list(set([int(x/2) for x in lst]))\n",
    "  \n",
    "# Ben was tired of seeing camelcasing in python so he wrote a helpful function\n",
    "# But wait, don't his variables look weird...?\n",
    "# TODO change camel case vars into snake case\n",
    "# brownie points if you can rewrite this in one line, hint use regexes\n",
    "def convertCamelToSnake(sss):\n",
    "  upperCase = string.ascii_uppercase\n",
    "  splitString = [\"filler\"]\n",
    "  prevUpper = 0\n",
    "  for index in range(len(sss)):\n",
    "    if(sss[index] in upperCase):\n",
    "      splitString.pop()\n",
    "      splitString += [sss[prevUpper:index], sss[index:len(sss)]]\n",
    "      prevUpper = index\n",
    "  finalJoinedString = '_'.join([word.lower() for word in splitString])\n",
    "  return finalJoinedString"
   ]
  },
  {
   "cell_type": "code",
   "execution_count": 114,
   "metadata": {},
   "outputs": [
    {
     "name": "stdout",
     "output_type": "stream",
     "text": [
      "1 + 5 = 6\n",
      "Oh boy it's sorted:\n",
      "\t[1, 2, 3, 4, 5, 6, 7, 8, 9]\n",
      "Data!:\n",
      "\t[1, 2, 3, 4, 5, 6, 7, 8, 9, 10, 11, 12, 13]\n",
      "hmm wait...\n",
      "\tdef convert_camel_to_snake(sss):\n",
      "\t  upper_case = string.ascii_uppercase\n",
      "\t  split_string = [\"filler\"]\n",
      "\t  prev_upper = 0\n",
      "\t  for index in range(len(sss)):\n",
      "\t    if(sss[index] in upper_case):\n",
      "\t      split_string.pop()\n",
      "\t      split_string += [sss[prev_upper:index], sss[index:len(sss)]]\n",
      "\t      prev_upper = index\n",
      "\t  final_joined_string = '_'.join([word.lower() for word in split_string])\n",
      "\t  return final_joined_string\n",
      "\t\n"
     ]
    }
   ],
   "source": [
    "# NOTE: just to see the output, no work to do here\n",
    "\n",
    "print(\"1 + 5 =\", add(1,5))\n",
    "\n",
    "print(\"Oh boy it's sorted:\\n\\t\", bogosort([2, 4, 6, 8, 9, 7, 5, 3, 1]), sep=\"\")\n",
    "\n",
    "print(\"Data!:\\n\\t\", make_data(), sep=\"\")\n",
    "\n",
    "print(\"hmm wait...\\n\", \"\\t\" + convertCamelToSnake(inspect.getsource(convertCamelToSnake)).replace(\"\\n\", \"\\n\\t\"), sep='')\n"
   ]
  },
  {
   "cell_type": "markdown",
   "metadata": {},
   "source": [
    "## "
   ]
  },
  {
   "cell_type": "markdown",
   "metadata": {},
   "source": [
    "## Tips\n",
    "- Read the [documentation](https://www.tensorflow.org/api_docs/python/tf) for functions you don't understand.\n",
    "- Read the notes for every lab before starting.\n",
    "  - The lecture notes have useful code to use, just make sure to actually change it so it works for the situation.\n",
    "  - It will be almost impossible to do this class without the notes.\n",
    "- Read all instructions on the assignments carefully. You can easily lose a lot of points if you forget to do something simple **like assigning tensorflow names to your variables**.\n",
    "- Experiment with hyperparameters if your model does not train well.\n",
    "- Join the discord and check it often _(this is required)_"
   ]
  }
 ],
 "metadata": {
  "kernelspec": {
   "display_name": "Python 3",
   "language": "python",
   "name": "python3"
  },
  "language_info": {
   "codemirror_mode": {
    "name": "ipython",
    "version": 3
   },
   "file_extension": ".py",
   "mimetype": "text/x-python",
   "name": "python",
   "nbconvert_exporter": "python",
   "pygments_lexer": "ipython3",
   "version": "3.7.4"
  }
 },
 "nbformat": 4,
 "nbformat_minor": 2
}
