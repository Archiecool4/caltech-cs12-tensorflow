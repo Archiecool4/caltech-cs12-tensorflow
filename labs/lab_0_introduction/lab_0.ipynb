{
 "cells": [
  {
   "cell_type": "markdown",
   "metadata": {},
   "source": [
    "# Lab 0: Introduction\n",
    "\n",
    "This lab is mainly for setup and assesses if you are prepared for CS 12: TensorFlow."
   ]
  },
  {
   "cell_type": "markdown",
   "metadata": {},
   "source": [
    "## Section 0: Setup & Git Basics\n",
    "Read (and do) the setup as instructed on the class webpage:\n",
    "http://archie.caltech.edu/setup.html.\n",
    "\n",
    "Important things:\n",
    "- Make sure to **duplicate** the repository, do not **fork** it.\n",
    "- If you have already done this, reread the setup page and ensure everything works. (Also check that your GitHub repo is not a fork please)\n",
    "- It is very important that you give the instructors access to your repo. We cannot grade if you do not do this.\n",
    "  - Our usernames are `Archiecool4`, `njasi`, and `ilyasher`.\n",
    "  \n",
    "Now make and push a text file in the `lab_0_introduction` folder with a fun message for us.\n",
    "- Make sure that this file is added in its own commit.\n",
    "- Either use command line instructions (`git add`, `git commit`, `git push`) or use a visual git interface. (GitHub desktop, VSCode source control, etc)\n",
    "  - Do not upload the file using the interface on github.com."
   ]
  },
  {
   "cell_type": "markdown",
   "metadata": {},
   "source": [
    "## Section 1: Formatting & Style\n",
    "\n",
    "Oh no! Ben Bitfiddle hasn't written any Python code since CS 1! Help him rewrite the functions below into something reasonable."
   ]
  },
  {
   "cell_type": "code",
   "execution_count": null,
   "metadata": {},
   "outputs": [],
   "source": [
    "# Import essential libraries\n",
    "import random\n",
    "import string\n",
    "import inspect"
   ]
  },
  {
   "cell_type": "code",
   "execution_count": null,
   "metadata": {},
   "outputs": [],
   "source": [
    "# Ben Bitfiddle wanted to make a function so he could add numbers together.\n",
    "# TODO: Refactor this code. \n",
    "def add(x,y):\n",
    "    x = x +y\n",
    "    y =x\n",
    "    return y\n",
    "\n",
    "# Ben has made an interesting choice for his sorting function...\n",
    "# TODO: Clean up the spacing/formatting and refactor.\n",
    "def bogosort(array):\n",
    "    random.shuffle(array)\n",
    "    while( array!= \\\n",
    "          sorted(array )):\n",
    "        random. shuffle(array)\n",
    "    return array\n",
    "   \n",
    "# Mr Bitfiddle wanted to make an array ranging from 1 to 13.\n",
    "# TODO: Isn't there an easy way to do this in Python...?\n",
    "def make_data():\n",
    "    lst = []\n",
    "    for i in [1,2,3,4,5,6,7,8,9,10,11,12,13]:\n",
    "        tmp = lst.copy()\n",
    "        tmp.append([]+[i*2])\n",
    "        lst += tmp[i-1]\n",
    "    return list(set([int(x/2) for x in lst]))\n",
    "  \n",
    "# Ben was tired of seeing Camelcasing in Python so he wrote a helpful function.\n",
    "# But wait, don't his variables look weird...?\n",
    "# TODO: Change Camel case names into Snake case.\n",
    "# Brownie points if you can rewrite this in one line. Hint: Use regexes.\n",
    "def convertCamelToSnake(sss):\n",
    "    upperCase = string.ascii_uppercase\n",
    "    splitString = [\"filler\"]\n",
    "    prevUpper = 0\n",
    "    for index in range(len(sss)):\n",
    "        if sss[index] in upperCase:\n",
    "            splitString.pop()\n",
    "            splitString += [sss[prevUpper:index], sss[index:len(sss)]]\n",
    "            prevUpper = index\n",
    "    finalJoinedString = '_'.join([word.lower() for word in splitString])\n",
    "    return finalJoinedString"
   ]
  },
  {
   "cell_type": "code",
   "execution_count": null,
   "metadata": {},
   "outputs": [],
   "source": [
    "# NOTE: Just to see the output; no work to do here.\n",
    "\n",
    "print(\"1 + 5 =\", add(1, 5))\n",
    "\n",
    "print(\"Oh boy it's sorted:\\n\\t\", bogosort([2, 4, 6, 8, 9, 7, 5, 3, 1]), sep=\"\")\n",
    "\n",
    "print(\"Data!:\\n\\t\", make_data(), sep=\"\")\n",
    "\n",
    "print(\"Hmm wait...\\n\", \"\\t\" + convertCamelToSnake(inspect.getsource(convertCamelToSnake)).replace(\"\\n\", \"\\n\\t\"), sep=\"\")"
   ]
  },
  {
   "cell_type": "markdown",
   "metadata": {},
   "source": [
    "## Section 2: Documentation Scavenger Hunt\n",
    "\n",
    "Reading documentation will be very helpful if not essential to doing well in the class. \n",
    "\n",
    "### 2.1: TensorFlow Docs\n",
    "For TensorFlow, documentation can be found at https://www.tensorflow.org/api_docs/python. Do the following in comments below.\n",
    "\n",
    "- Find the following functions in the api and describe their use (one short sentence is good).\n",
    "  - `tf.math.erf`\n",
    "  - `tf.print`\n",
    "  - `tf.nn.weighted_cross_entropy_with_logits`\n",
    "  \n",
    "- Find functions that do the following (you don't need to use them just give the name):\n",
    "  - Flip an image horizontally (left to right).\n",
    "  - Fast Fourier transform.\n",
    "  - Casts a tensor to a new type.\n",
    "\n",
    "- List all of the types used in TensorFlow (`tf.dtypes`)."
   ]
  },
  {
   "cell_type": "code",
   "execution_count": null,
   "metadata": {},
   "outputs": [],
   "source": [
    "# Describe the functions:\n",
    "\n",
    "\n",
    "\n",
    "# Find the functions:\n",
    "\n",
    "# Example: Returns x + y element-wise. => `tf.math.add`\n",
    "\n",
    "\n",
    "\n",
    "# List the types:\n",
    "\n"
   ]
  },
  {
   "cell_type": "markdown",
   "metadata": {},
   "source": [
    "### 2.2: Python Docs\n",
    "The actual docs are here: https://docs.python.org/3/, but you may find this more useful: https://python-reference.readthedocs.io/.\n",
    "\n",
    "- Explain what a list comprehension is, and make one to list the first 10 squares.\n",
    "- Make a class called `ComplexNum` which can store the value of a complex number. \n",
    "  - Implement `__add__`, `__mul__`, and `__str__`."
   ]
  },
  {
   "cell_type": "code",
   "execution_count": null,
   "metadata": {},
   "outputs": [],
   "source": [
    "# TODO: Make a comprehension for the first 10 squares\n",
    "sq_lst = []\n",
    "print(sq_lst)"
   ]
  },
  {
   "cell_type": "code",
   "execution_count": null,
   "metadata": {},
   "outputs": [],
   "source": [
    "# TODO: Make the `ComplexNum` class\n",
    "\n",
    "# Native Python complex numbers \n",
    "a = 2 + 3j\n",
    "b = -2 + 5j\n",
    "print(a * b + a)\n",
    "\n",
    "# Your complex numbers\n",
    "# a = ComplexNum(2, 3)\n",
    "# b = ComplexNum(-2, 5)"
   ]
  },
  {
   "cell_type": "markdown",
   "metadata": {},
   "source": [
    "## Section 3: Tips To Remember \n",
    "- Read the [documentation](https://www.tensorflow.org/api_docs/python/tf) for functions you don't understand.\n",
    "- Read the notes for every lab before starting.\n",
    "  - The lecture notes have useful code to use, just make sure to actually change it so it works for the situation.\n",
    "  - It will be almost impossible to do this class without the notes.\n",
    "- Read all instructions on the assignments carefully. You can easily lose a lot of points if you forget to do something simple **like assigning TensorFlow names to your variables**.\n",
    "- Experiment with hyperparameters if your model does not train well.\n",
    "- Join the discord and check it often _(this is required)_."
   ]
  }
 ],
 "metadata": {
  "kernelspec": {
   "display_name": "Python 3",
   "language": "python",
   "name": "python3"
  },
  "language_info": {
   "codemirror_mode": {
    "name": "ipython",
    "version": 3
   },
   "file_extension": ".py",
   "mimetype": "text/x-python",
   "name": "python",
   "nbconvert_exporter": "python",
   "pygments_lexer": "ipython3",
   "version": "3.6.9"
  }
 },
 "nbformat": 4,
 "nbformat_minor": 2
}
